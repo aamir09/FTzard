{
 "cells": [
  {
   "cell_type": "code",
   "execution_count": 1,
   "metadata": {
    "editable": true,
    "slideshow": {
     "slide_type": ""
    },
    "tags": []
   },
   "outputs": [
    {
     "name": "stderr",
     "output_type": "stream",
     "text": [
      "/app/.pixi/envs/default/lib/python3.11/site-packages/tqdm/auto.py:21: TqdmWarning: IProgress not found. Please update jupyter and ipywidgets. See https://ipywidgets.readthedocs.io/en/stable/user_install.html\n",
      "  from .autonotebook import tqdm as notebook_tqdm\n"
     ]
    }
   ],
   "source": [
    "import os\n",
    "import torch\n",
    "from transformers import (\n",
    "    AutoTokenizer, DataCollatorWithPadding\n",
    ")\n",
    "import mlflow as mf\n",
    "import pandas as pd\n",
    "from hydra import initialize, compose\n",
    "import ftzard.utils.mlflow as mf_utils\n",
    "from sklearn.model_selection import train_test_split\n",
    "from datasets import load_dataset, Dataset, DatasetDict, concatenate_datasets\n",
    "from sklearn.model_selection import train_test_split\n",
    "from ftzard.utils.common import get_current_date_time\n",
    "import joblib\n",
    "import dagstermill as dgm\n"
   ]
  },
  {
   "cell_type": "code",
   "execution_count": 2,
   "metadata": {
    "editable": true,
    "slideshow": {
     "slide_type": ""
    },
    "tags": []
   },
   "outputs": [
    {
     "name": "stdout",
     "output_type": "stream",
     "text": [
      "Symlink already created...\n"
     ]
    }
   ],
   "source": [
    "base_path = '/app/ftzard'\n",
    "config_path = f'{base_path}/config/'\n",
    "try:\n",
    "    os.symlink(config_path, \"config_link\")\n",
    "except Exception as e:\n",
    "    print(\"Symlink already created...\")\n",
    "data_path = f\"{base_path}/data/cleaned_data.csv\"\n",
    "config_name = 'config'"
   ]
  },
  {
   "cell_type": "code",
   "execution_count": 3,
   "metadata": {},
   "outputs": [],
   "source": [
    "with initialize(version_base=None, config_path=\"config_link\"):\n",
    "    cfg = compose(config_name=config_name)\n",
    "    tracking_uri, experiment_name = cfg.MLFLOW.TRACKING.URI, cfg.MLFLOW.EXPERIMENT.NAME\n",
    "    "
   ]
  },
  {
   "cell_type": "code",
   "execution_count": 4,
   "metadata": {},
   "outputs": [
    {
     "name": "stdout",
     "output_type": "stream",
     "text": [
      "Base Run Name:  DATA PROCESSING\n",
      "Data Path:  /app/ftzard/data/cleaned_data.csv\n",
      "Mlflow Experiment Name:  senetiment_analysis\n",
      "Mlflow Run Name:  2024-07-03_6:48\n",
      "Model Name:  tiiuae/falcon-7b\n"
     ]
    }
   ],
   "source": [
    "os.environ['MLFLOW_TRACKING_URI'] = tracking_uri\n",
    "base_run_name = \"DATA PROCESSING\"\n",
    "run_name = get_current_date_time()\n",
    "model_name = cfg.HUGGINGFACE.MODEL.NAME\n",
    "max_len = 1024\n",
    "print(\"Base Run Name: \", base_run_name)\n",
    "print('Data Path: ', data_path)\n",
    "print('Mlflow Experiment Name: ', experiment_name)\n",
    "print('Mlflow Run Name: ', run_name)\n",
    "print('Model Name: ', model_name)"
   ]
  },
  {
   "cell_type": "code",
   "execution_count": 5,
   "metadata": {
    "editable": true,
    "slideshow": {
     "slide_type": ""
    },
    "tags": [
     "parameters"
    ]
   },
   "outputs": [],
   "source": [
    "data_cleaned = pd.read_csv(data_path, encoding='latin-1')"
   ]
  },
  {
   "cell_type": "code",
   "execution_count": 6,
   "metadata": {},
   "outputs": [
    {
     "data": {
      "text/html": [
       "<div>\n",
       "<style scoped>\n",
       "    .dataframe tbody tr th:only-of-type {\n",
       "        vertical-align: middle;\n",
       "    }\n",
       "\n",
       "    .dataframe tbody tr th {\n",
       "        vertical-align: top;\n",
       "    }\n",
       "\n",
       "    .dataframe thead th {\n",
       "        text-align: right;\n",
       "    }\n",
       "</style>\n",
       "<table border=\"1\" class=\"dataframe\">\n",
       "  <thead>\n",
       "    <tr style=\"text-align: right;\">\n",
       "      <th></th>\n",
       "      <th>Unnamed: 0.1</th>\n",
       "      <th>Unnamed: 0</th>\n",
       "      <th>text</th>\n",
       "      <th>target</th>\n",
       "    </tr>\n",
       "  </thead>\n",
       "  <tbody>\n",
       "    <tr>\n",
       "      <th>0</th>\n",
       "      <td>0</td>\n",
       "      <td>0</td>\n",
       "      <td>user switchfoot httptwitpic.com2y1zl  Awww tha...</td>\n",
       "      <td>0</td>\n",
       "    </tr>\n",
       "    <tr>\n",
       "      <th>1</th>\n",
       "      <td>1</td>\n",
       "      <td>1</td>\n",
       "      <td>is upset that he cant update his Facebook by t...</td>\n",
       "      <td>0</td>\n",
       "    </tr>\n",
       "    <tr>\n",
       "      <th>2</th>\n",
       "      <td>2</td>\n",
       "      <td>2</td>\n",
       "      <td>user Kenichan I dived many times for the ball....</td>\n",
       "      <td>0</td>\n",
       "    </tr>\n",
       "    <tr>\n",
       "      <th>3</th>\n",
       "      <td>3</td>\n",
       "      <td>3</td>\n",
       "      <td>my whole body feels itchy and like its on fire</td>\n",
       "      <td>0</td>\n",
       "    </tr>\n",
       "    <tr>\n",
       "      <th>4</th>\n",
       "      <td>4</td>\n",
       "      <td>4</td>\n",
       "      <td>user nationwideclass no its not behaving at al...</td>\n",
       "      <td>0</td>\n",
       "    </tr>\n",
       "  </tbody>\n",
       "</table>\n",
       "</div>"
      ],
      "text/plain": [
       "   Unnamed: 0.1  Unnamed: 0  \\\n",
       "0             0           0   \n",
       "1             1           1   \n",
       "2             2           2   \n",
       "3             3           3   \n",
       "4             4           4   \n",
       "\n",
       "                                                text  target  \n",
       "0  user switchfoot httptwitpic.com2y1zl  Awww tha...       0  \n",
       "1  is upset that he cant update his Facebook by t...       0  \n",
       "2  user Kenichan I dived many times for the ball....       0  \n",
       "3    my whole body feels itchy and like its on fire        0  \n",
       "4  user nationwideclass no its not behaving at al...       0  "
      ]
     },
     "execution_count": 6,
     "metadata": {},
     "output_type": "execute_result"
    }
   ],
   "source": [
    "data_cleaned.head()"
   ]
  },
  {
   "cell_type": "code",
   "execution_count": 7,
   "metadata": {},
   "outputs": [
    {
     "name": "stdout",
     "output_type": "stream",
     "text": [
      "<class 'pandas.core.frame.DataFrame'>\n",
      "RangeIndex: 1600000 entries, 0 to 1599999\n",
      "Data columns (total 4 columns):\n",
      " #   Column        Non-Null Count    Dtype \n",
      "---  ------        --------------    ----- \n",
      " 0   Unnamed: 0.1  1600000 non-null  int64 \n",
      " 1   Unnamed: 0    1600000 non-null  int64 \n",
      " 2   text          1600000 non-null  object\n",
      " 3   target        1600000 non-null  int64 \n",
      "dtypes: int64(3), object(1)\n",
      "memory usage: 48.8+ MB\n"
     ]
    }
   ],
   "source": [
    "data_cleaned.info()"
   ]
  },
  {
   "cell_type": "code",
   "execution_count": 8,
   "metadata": {},
   "outputs": [],
   "source": [
    "data_cleaned['target'] = data_cleaned['target'].apply(lambda x: x-3 if x!=0 else x)"
   ]
  },
  {
   "cell_type": "code",
   "execution_count": 9,
   "metadata": {},
   "outputs": [
    {
     "data": {
      "text/html": [
       "<div>\n",
       "<style scoped>\n",
       "    .dataframe tbody tr th:only-of-type {\n",
       "        vertical-align: middle;\n",
       "    }\n",
       "\n",
       "    .dataframe tbody tr th {\n",
       "        vertical-align: top;\n",
       "    }\n",
       "\n",
       "    .dataframe thead th {\n",
       "        text-align: right;\n",
       "    }\n",
       "</style>\n",
       "<table border=\"1\" class=\"dataframe\">\n",
       "  <thead>\n",
       "    <tr style=\"text-align: right;\">\n",
       "      <th></th>\n",
       "      <th>Unnamed: 0.1</th>\n",
       "      <th>Unnamed: 0</th>\n",
       "      <th>text</th>\n",
       "      <th>target</th>\n",
       "    </tr>\n",
       "  </thead>\n",
       "  <tbody>\n",
       "    <tr>\n",
       "      <th>0</th>\n",
       "      <td>0</td>\n",
       "      <td>0</td>\n",
       "      <td>user switchfoot httptwitpic.com2y1zl  Awww tha...</td>\n",
       "      <td>0</td>\n",
       "    </tr>\n",
       "    <tr>\n",
       "      <th>1</th>\n",
       "      <td>1</td>\n",
       "      <td>1</td>\n",
       "      <td>is upset that he cant update his Facebook by t...</td>\n",
       "      <td>0</td>\n",
       "    </tr>\n",
       "    <tr>\n",
       "      <th>2</th>\n",
       "      <td>2</td>\n",
       "      <td>2</td>\n",
       "      <td>user Kenichan I dived many times for the ball....</td>\n",
       "      <td>0</td>\n",
       "    </tr>\n",
       "    <tr>\n",
       "      <th>3</th>\n",
       "      <td>3</td>\n",
       "      <td>3</td>\n",
       "      <td>my whole body feels itchy and like its on fire</td>\n",
       "      <td>0</td>\n",
       "    </tr>\n",
       "    <tr>\n",
       "      <th>4</th>\n",
       "      <td>4</td>\n",
       "      <td>4</td>\n",
       "      <td>user nationwideclass no its not behaving at al...</td>\n",
       "      <td>0</td>\n",
       "    </tr>\n",
       "  </tbody>\n",
       "</table>\n",
       "</div>"
      ],
      "text/plain": [
       "   Unnamed: 0.1  Unnamed: 0  \\\n",
       "0             0           0   \n",
       "1             1           1   \n",
       "2             2           2   \n",
       "3             3           3   \n",
       "4             4           4   \n",
       "\n",
       "                                                text  target  \n",
       "0  user switchfoot httptwitpic.com2y1zl  Awww tha...       0  \n",
       "1  is upset that he cant update his Facebook by t...       0  \n",
       "2  user Kenichan I dived many times for the ball....       0  \n",
       "3    my whole body feels itchy and like its on fire        0  \n",
       "4  user nationwideclass no its not behaving at al...       0  "
      ]
     },
     "execution_count": 9,
     "metadata": {},
     "output_type": "execute_result"
    }
   ],
   "source": [
    "data_cleaned.head()"
   ]
  },
  {
   "cell_type": "code",
   "execution_count": 10,
   "metadata": {},
   "outputs": [
    {
     "data": {
      "text/plain": [
       "target\n",
       "0    800000\n",
       "1    800000\n",
       "Name: count, dtype: int64"
      ]
     },
     "execution_count": 10,
     "metadata": {},
     "output_type": "execute_result"
    }
   ],
   "source": [
    "data_cleaned['target'].value_counts()"
   ]
  },
  {
   "cell_type": "code",
   "execution_count": 11,
   "metadata": {},
   "outputs": [
    {
     "data": {
      "text/plain": [
       "Index(['Unnamed: 0.1', 'Unnamed: 0', 'text', 'target'], dtype='object')"
      ]
     },
     "execution_count": 11,
     "metadata": {},
     "output_type": "execute_result"
    }
   ],
   "source": [
    "data_cleaned.columns"
   ]
  },
  {
   "cell_type": "code",
   "execution_count": 12,
   "metadata": {},
   "outputs": [],
   "source": [
    "data_reduced, _  =  train_test_split(data_cleaned[['text', 'target']], train_size=0.01, stratify=data_cleaned['target'])"
   ]
  },
  {
   "cell_type": "code",
   "execution_count": 13,
   "metadata": {},
   "outputs": [
    {
     "data": {
      "text/plain": [
       "target\n",
       "1    8000\n",
       "0    8000\n",
       "Name: count, dtype: int64"
      ]
     },
     "execution_count": 13,
     "metadata": {},
     "output_type": "execute_result"
    }
   ],
   "source": [
    "data_reduced['target'].value_counts()"
   ]
  },
  {
   "cell_type": "code",
   "execution_count": 15,
   "metadata": {},
   "outputs": [
    {
     "name": "stdout",
     "output_type": "stream",
     "text": [
      "Examples in Training data: 14400\n",
      "Examples in Validation data: 1120\n",
      "Examples in Test data: 480\n"
     ]
    }
   ],
   "source": [
    "train_data, validation_data = train_test_split(data_reduced[['text', 'target']], test_size=0.1, stratify=data_reduced['target'])\n",
    "validation_data, test_data = train_test_split(validation_data, test_size=0.3, stratify=validation_data['target'])\n",
    "\n",
    "print('Examples in Training data:', len(train_data))\n",
    "print('Examples in Validation data:', len(validation_data))\n",
    "print('Examples in Test data:', len(test_data))"
   ]
  },
  {
   "cell_type": "code",
   "execution_count": 16,
   "metadata": {},
   "outputs": [
    {
     "name": "stdout",
     "output_type": "stream",
     "text": [
      "target\n",
      "0    7200\n",
      "1    7200\n",
      "Name: count, dtype: int64\n",
      "target\n",
      "1    560\n",
      "0    560\n",
      "Name: count, dtype: int64\n",
      "target\n",
      "0    240\n",
      "1    240\n",
      "Name: count, dtype: int64\n"
     ]
    }
   ],
   "source": [
    "print(train_data['target'].value_counts())\n",
    "print(validation_data['target'].value_counts())\n",
    "print(test_data['target'].value_counts())"
   ]
  },
  {
   "cell_type": "code",
   "execution_count": 17,
   "metadata": {
    "editable": true,
    "slideshow": {
     "slide_type": ""
    },
    "tags": []
   },
   "outputs": [
    {
     "name": "stderr",
     "output_type": "stream",
     "text": [
      "INFO:alembic.runtime.migration:Context impl SQLiteImpl.\n",
      "INFO:alembic.runtime.migration:Will assume non-transactional DDL.\n"
     ]
    },
    {
     "name": "stdout",
     "output_type": "stream",
     "text": [
      "The provided experiment name senetiment_analysis already exists, the run will be logged in this experiment.\n",
      "                                 \n",
      "Experiment Id:  1\n",
      "Run Id:  e2f7da890073445586bf38e3fe95ac8f\n",
      "DatasetDict({\n",
      "    train: Dataset({\n",
      "        features: ['text', 'target', '__index_level_0__'],\n",
      "        num_rows: 14400\n",
      "    })\n",
      "    val: Dataset({\n",
      "        features: ['text', 'target', '__index_level_0__'],\n",
      "        num_rows: 1120\n",
      "    })\n",
      "    test: Dataset({\n",
      "        features: ['text', 'target', '__index_level_0__'],\n",
      "        num_rows: 480\n",
      "    })\n",
      "})\n"
     ]
    },
    {
     "name": "stderr",
     "output_type": "stream",
     "text": [
      "Map: 100%|████████████████████████████████████████████████| 14400/14400 [00:00<00:00, 34046.94 examples/s]\n",
      "Map: 100%|██████████████████████████████████████████████████| 1120/1120 [00:00<00:00, 48617.53 examples/s]\n",
      "Map: 100%|████████████████████████████████████████████████████| 480/480 [00:00<00:00, 41666.13 examples/s]\n"
     ]
    }
   ],
   "source": [
    "experiment_id = mf_utils.create_experiment(exp_name=experiment_name)\n",
    "\n",
    "base_run_id = mf_utils.get_run_id_by_name(run_name=base_run_name, experiment_ids=[experiment_id])\n",
    "print('Experiment Id: ', experiment_id)\n",
    "\n",
    "with mf.start_run(run_id=base_run_id, run_name=base_run_name, experiment_id=experiment_id):\n",
    "    run_id = mf_utils.get_run_id_by_name(run_name=run_name, experiment_ids=[experiment_id], nested=True)\n",
    "    print('Run Id: ', run_id)\n",
    "    if run_id:\n",
    "        mf.start_run(run_id=run_id, run_name=run_name, experiment_id=experiment_id, nested=True)\n",
    "    else:\n",
    "        mf.start_run(run_name=run_name, experiment_id=experiment_id, nested=True)\n",
    "        \n",
    "    mf.log_param(key='max_sequence_length', value=max_len)\n",
    "    mf.log_param(key='random seed', value=42)\n",
    "    mf.log_param(key='train_split_size', value =0.9)\n",
    "    mf.log_param(key='test_split_size', value =0.3)\n",
    "\n",
    "    train_ds = Dataset.from_pandas(train_data)\n",
    "    val_ds = Dataset.from_pandas(validation_data)\n",
    "    test_ds = Dataset.from_pandas(test_data)\n",
    "    \n",
    "    train_ds_shuffled = train_ds.shuffle(seed=42)\n",
    "    \n",
    "    final_ds = dataset = DatasetDict({\n",
    "        'train': train_ds_shuffled,\n",
    "        'val': val_ds,\n",
    "        'test': test_ds\n",
    "    })\n",
    "    \n",
    "    print(final_ds)\n",
    "    \n",
    "    tokenizer = AutoTokenizer.from_pretrained(model_name, add_prefix_space=True)\n",
    "    tokenizer.pad_token_id = tokenizer.eos_token_id\n",
    "    tokenizer.pad_token = tokenizer.eos_token\n",
    "    \n",
    "    def tokenize(examples):\n",
    "        return tokenizer(examples['text'], truncation=True, max_length=max_len)\n",
    "    \n",
    "    rm_cols = ['__index_level_0__', 'text']\n",
    "    collator = DataCollatorWithPadding(tokenizer=tokenizer)\n",
    "    \n",
    "    \n",
    "    tokenized_datasets = dataset.map(tokenize, batched=True, remove_columns=rm_cols)\n",
    "    tokenized_datasets = tokenized_datasets.rename_column(\"target\", \"label\")\n",
    "    tokenized_datasets.set_format(\"torch\")\n",
    "\n",
    "    mf.end_run()"
   ]
  },
  {
   "cell_type": "code",
   "execution_count": 18,
   "metadata": {},
   "outputs": [],
   "source": [
    "output = {\n",
    "    'datasets':tokenized_datasets,\n",
    "}"
   ]
  },
  {
   "cell_type": "code",
   "execution_count": 19,
   "metadata": {
    "editable": true,
    "slideshow": {
     "slide_type": ""
    },
    "tags": []
   },
   "outputs": [],
   "source": [
    "# with open(f\"{base_path}/data/tokenized_dataset.joblib\", \"wb\") as file:\n",
    "#     joblib.dump(output, file)\n",
    "metadata = {\"run_name\": run_name,\n",
    "           \"run_id\":run_id if run_id else mf_utils.get_run_id_by_name(run_name=run_name, experiment_ids=[experiment_id]),\n",
    "           \"base_run_id\": base_run_id,\n",
    "            \"base_run_name\": base_run_name\n",
    "           }"
   ]
  },
  {
   "cell_type": "code",
   "execution_count": 20,
   "metadata": {
    "editable": true,
    "slideshow": {
     "slide_type": ""
    },
    "tags": []
   },
   "outputs": [
    {
     "data": {
      "text/plain": [
       "{'run_name': '2024-07-01_8:8',\n",
       " 'run_id': 'e2f7da890073445586bf38e3fe95ac8f',\n",
       " 'base_run_id': '7cec91b2fa2b4640a071872260925a78',\n",
       " 'base_run_name': 'DATA PROCESSING'}"
      ]
     },
     "execution_count": 20,
     "metadata": {},
     "output_type": "execute_result"
    }
   ],
   "source": [
    "dgm.yield_result(output, output_name='tokenized_dataset')\n",
    "dgm.yield_result(metadata, output_name='step2_run_metadata')"
   ]
  }
 ],
 "metadata": {
  "kernelspec": {
   "display_name": "Python 3 (ipykernel)",
   "language": "python",
   "name": "python3"
  },
  "language_info": {
   "codemirror_mode": {
    "name": "ipython",
    "version": 3
   },
   "file_extension": ".py",
   "mimetype": "text/x-python",
   "name": "python",
   "nbconvert_exporter": "python",
   "pygments_lexer": "ipython3",
   "version": "3.11.9"
  }
 },
 "nbformat": 4,
 "nbformat_minor": 4
}
