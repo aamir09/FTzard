{
 "cells": [
  {
   "cell_type": "code",
   "execution_count": 21,
   "metadata": {},
   "outputs": [],
   "source": [
    "import os\n",
    "import torch\n",
    "from transformers import (\n",
    "    AutoTokenizer, DataCollatorWithPadding\n",
    ")\n",
    "import mlflow as mf\n",
    "import pandas as pd\n",
    "from hydra import initialize, compose\n",
    "import ftzard.utils.mlflow as mf_utils\n",
    "from sklearn.model_selection import train_test_split\n",
    "from datasets import load_dataset, Dataset, DatasetDict\n",
    "from sklearn.model_selection import train_test_split\n",
    "import dagstermill as dgm\n"
   ]
  },
  {
   "cell_type": "code",
   "execution_count": 2,
   "metadata": {},
   "outputs": [],
   "source": [
    "base_path = 'E:/FTzard/ftzard'\n",
    "config_path = f'../../config/'\n",
    "data_path = f\"{base_path}/data/cleaned_data.csv\"\n",
    "config_name = 'config'"
   ]
  },
  {
   "cell_type": "code",
   "execution_count": 3,
   "metadata": {},
   "outputs": [],
   "source": [
    "with initialize(version_base=None, config_path=config_path):\n",
    "    cfg = compose(config_name=config_name)\n",
    "    tracking_uri, experiment_name = cfg.MLFLOW_TRACKING_URI, cfg.MLFLOW_EXPERIMENT_NAME\n",
    "    "
   ]
  },
  {
   "cell_type": "code",
   "execution_count": 4,
   "metadata": {},
   "outputs": [
    {
     "name": "stdout",
     "output_type": "stream",
     "text": [
      "Data Path:  E:/FTzard/ftzard/data/cleaned_data.csv\n",
      "Mlflow Experiment Name:  senetiment_analysis\n",
      "Mlflow Run Name:  data_processing\n",
      "Model Name:  tiiuae/falcon-7b\n"
     ]
    }
   ],
   "source": [
    "os.environ['MLFLOW_TRACKING_URI'] = tracking_uri\n",
    "run_name = 'data_processing'\n",
    "model_name = cfg['model_name']\n",
    "max_len = 1024\n",
    "print('Data Path: ', data_path)\n",
    "print('Mlflow Experiment Name: ', experiment_name)\n",
    "print('Mlflow Run Name: ', run_name)\n",
    "print('Model Name: ', model_name)"
   ]
  },
  {
   "cell_type": "code",
   "execution_count": 5,
   "metadata": {
    "tags": [
     "parameters"
    ]
   },
   "outputs": [],
   "source": [
    "data = pd.read_csv(data_path, encoding='latin-1')"
   ]
  },
  {
   "cell_type": "code",
   "execution_count": 6,
   "metadata": {},
   "outputs": [
    {
     "data": {
      "text/html": [
       "<div>\n",
       "<style scoped>\n",
       "    .dataframe tbody tr th:only-of-type {\n",
       "        vertical-align: middle;\n",
       "    }\n",
       "\n",
       "    .dataframe tbody tr th {\n",
       "        vertical-align: top;\n",
       "    }\n",
       "\n",
       "    .dataframe thead th {\n",
       "        text-align: right;\n",
       "    }\n",
       "</style>\n",
       "<table border=\"1\" class=\"dataframe\">\n",
       "  <thead>\n",
       "    <tr style=\"text-align: right;\">\n",
       "      <th></th>\n",
       "      <th>text</th>\n",
       "      <th>target</th>\n",
       "    </tr>\n",
       "  </thead>\n",
       "  <tbody>\n",
       "    <tr>\n",
       "      <th>0</th>\n",
       "      <td>user switchfoot httptwitpic.com2y1zl  Awww tha...</td>\n",
       "      <td>0</td>\n",
       "    </tr>\n",
       "    <tr>\n",
       "      <th>1</th>\n",
       "      <td>is upset that he cant update his Facebook by t...</td>\n",
       "      <td>0</td>\n",
       "    </tr>\n",
       "    <tr>\n",
       "      <th>2</th>\n",
       "      <td>user Kenichan I dived many times for the ball....</td>\n",
       "      <td>0</td>\n",
       "    </tr>\n",
       "    <tr>\n",
       "      <th>3</th>\n",
       "      <td>my whole body feels itchy and like its on fire</td>\n",
       "      <td>0</td>\n",
       "    </tr>\n",
       "    <tr>\n",
       "      <th>4</th>\n",
       "      <td>user nationwideclass no its not behaving at al...</td>\n",
       "      <td>0</td>\n",
       "    </tr>\n",
       "  </tbody>\n",
       "</table>\n",
       "</div>"
      ],
      "text/plain": [
       "                                                text  target\n",
       "0  user switchfoot httptwitpic.com2y1zl  Awww tha...       0\n",
       "1  is upset that he cant update his Facebook by t...       0\n",
       "2  user Kenichan I dived many times for the ball....       0\n",
       "3    my whole body feels itchy and like its on fire        0\n",
       "4  user nationwideclass no its not behaving at al...       0"
      ]
     },
     "execution_count": 6,
     "metadata": {},
     "output_type": "execute_result"
    }
   ],
   "source": [
    "data.head()"
   ]
  },
  {
   "cell_type": "code",
   "execution_count": 7,
   "metadata": {},
   "outputs": [
    {
     "name": "stdout",
     "output_type": "stream",
     "text": [
      "<class 'pandas.core.frame.DataFrame'>\n",
      "RangeIndex: 1600000 entries, 0 to 1599999\n",
      "Data columns (total 2 columns):\n",
      " #   Column  Non-Null Count    Dtype \n",
      "---  ------  --------------    ----- \n",
      " 0   text    1600000 non-null  object\n",
      " 1   target  1600000 non-null  int64 \n",
      "dtypes: int64(1), object(1)\n",
      "memory usage: 24.4+ MB\n"
     ]
    }
   ],
   "source": [
    "data.info()"
   ]
  },
  {
   "cell_type": "code",
   "execution_count": 8,
   "metadata": {},
   "outputs": [],
   "source": [
    "data['target'] = data['target'].apply(lambda x: x-3 if x!=0 else x)"
   ]
  },
  {
   "cell_type": "code",
   "execution_count": 9,
   "metadata": {},
   "outputs": [
    {
     "data": {
      "text/html": [
       "<div>\n",
       "<style scoped>\n",
       "    .dataframe tbody tr th:only-of-type {\n",
       "        vertical-align: middle;\n",
       "    }\n",
       "\n",
       "    .dataframe tbody tr th {\n",
       "        vertical-align: top;\n",
       "    }\n",
       "\n",
       "    .dataframe thead th {\n",
       "        text-align: right;\n",
       "    }\n",
       "</style>\n",
       "<table border=\"1\" class=\"dataframe\">\n",
       "  <thead>\n",
       "    <tr style=\"text-align: right;\">\n",
       "      <th></th>\n",
       "      <th>text</th>\n",
       "      <th>target</th>\n",
       "    </tr>\n",
       "  </thead>\n",
       "  <tbody>\n",
       "    <tr>\n",
       "      <th>0</th>\n",
       "      <td>user switchfoot httptwitpic.com2y1zl  Awww tha...</td>\n",
       "      <td>0</td>\n",
       "    </tr>\n",
       "    <tr>\n",
       "      <th>1</th>\n",
       "      <td>is upset that he cant update his Facebook by t...</td>\n",
       "      <td>0</td>\n",
       "    </tr>\n",
       "    <tr>\n",
       "      <th>2</th>\n",
       "      <td>user Kenichan I dived many times for the ball....</td>\n",
       "      <td>0</td>\n",
       "    </tr>\n",
       "    <tr>\n",
       "      <th>3</th>\n",
       "      <td>my whole body feels itchy and like its on fire</td>\n",
       "      <td>0</td>\n",
       "    </tr>\n",
       "    <tr>\n",
       "      <th>4</th>\n",
       "      <td>user nationwideclass no its not behaving at al...</td>\n",
       "      <td>0</td>\n",
       "    </tr>\n",
       "  </tbody>\n",
       "</table>\n",
       "</div>"
      ],
      "text/plain": [
       "                                                text  target\n",
       "0  user switchfoot httptwitpic.com2y1zl  Awww tha...       0\n",
       "1  is upset that he cant update his Facebook by t...       0\n",
       "2  user Kenichan I dived many times for the ball....       0\n",
       "3    my whole body feels itchy and like its on fire        0\n",
       "4  user nationwideclass no its not behaving at al...       0"
      ]
     },
     "execution_count": 9,
     "metadata": {},
     "output_type": "execute_result"
    }
   ],
   "source": [
    "data.head()"
   ]
  },
  {
   "cell_type": "code",
   "execution_count": 10,
   "metadata": {},
   "outputs": [
    {
     "data": {
      "text/plain": [
       "target\n",
       "0    800000\n",
       "1    800000\n",
       "Name: count, dtype: int64"
      ]
     },
     "execution_count": 10,
     "metadata": {},
     "output_type": "execute_result"
    }
   ],
   "source": [
    "data['target'].value_counts()"
   ]
  },
  {
   "cell_type": "code",
   "execution_count": 11,
   "metadata": {},
   "outputs": [
    {
     "data": {
      "text/plain": [
       "Index(['text', 'target'], dtype='object')"
      ]
     },
     "execution_count": 11,
     "metadata": {},
     "output_type": "execute_result"
    }
   ],
   "source": [
    "data.columns"
   ]
  },
  {
   "cell_type": "code",
   "execution_count": 12,
   "metadata": {},
   "outputs": [
    {
     "name": "stdout",
     "output_type": "stream",
     "text": [
      "Examples in Training data: 1440000\n",
      "Examples in Validation data: 112000\n",
      "Examples in Test data: 48000\n"
     ]
    }
   ],
   "source": [
    "train_data, validation_data = train_test_split(data[['text', 'target']], test_size=0.1, stratify=data['target'])\n",
    "validation_data, test_data = train_test_split(validation_data, test_size=0.3, stratify=validation_data['target'])\n",
    "\n",
    "print('Examples in Training data:', len(train_data))\n",
    "print('Examples in Validation data:', len(validation_data))\n",
    "print('Examples in Test data:', len(test_data))"
   ]
  },
  {
   "cell_type": "code",
   "execution_count": 13,
   "metadata": {},
   "outputs": [
    {
     "name": "stdout",
     "output_type": "stream",
     "text": [
      "target\n",
      "0    720000\n",
      "1    720000\n",
      "Name: count, dtype: int64\n",
      "target\n",
      "0    56000\n",
      "1    56000\n",
      "Name: count, dtype: int64\n",
      "target\n",
      "1    24000\n",
      "0    24000\n",
      "Name: count, dtype: int64\n"
     ]
    }
   ],
   "source": [
    "print(train_data['target'].value_counts())\n",
    "print(validation_data['target'].value_counts())\n",
    "print(test_data['target'].value_counts())"
   ]
  },
  {
   "cell_type": "code",
   "execution_count": 18,
   "metadata": {},
   "outputs": [
    {
     "name": "stdout",
     "output_type": "stream",
     "text": [
      "The provided experiment name senetiment_analysis already exists, the run will be logged in this experiment.\n",
      "                                 \n",
      "Experiment Id:  1\n",
      "Run Id:  59d4296e7f28406da2b49a1dca661136\n",
      "DatasetDict({\n",
      "    train: Dataset({\n",
      "        features: ['text', 'target', '__index_level_0__'],\n",
      "        num_rows: 1440000\n",
      "    })\n",
      "    val: Dataset({\n",
      "        features: ['text', 'target', '__index_level_0__'],\n",
      "        num_rows: 112000\n",
      "    })\n",
      "    test: Dataset({\n",
      "        features: ['text', 'target', '__index_level_0__'],\n",
      "        num_rows: 48000\n",
      "    })\n",
      "})\n"
     ]
    },
    {
     "name": "stderr",
     "output_type": "stream",
     "text": [
      "Map: 100%|██████████| 1440000/1440000 [02:07<00:00, 11275.99 examples/s]\n",
      "Map: 100%|██████████| 112000/112000 [00:07<00:00, 14111.34 examples/s]\n",
      "Map: 100%|██████████| 48000/48000 [00:03<00:00, 13892.25 examples/s]\n"
     ]
    }
   ],
   "source": [
    "experiment_id = mf_utils.create_experiment(exp_name=experiment_name)\n",
    "print('Experiment Id: ', experiment_id)\n",
    "run_id = mf_utils.get_run_id_by_name(run_name=run_name, experiment_ids=[experiment_id])\n",
    "print('Run Id: ', run_id)\n",
    "if run_id:\n",
    "    mf.start_run(run_id=run_id, run_name=run_name, experiment_id=experiment_id)\n",
    "else:\n",
    "    mf.start_run(run_name=run_name, experiment_id=experiment_id)\n",
    "    \n",
    "mf.log_param(key='max_sequence_length', value=max_len)\n",
    "mf.log_param(key='random seed', value=42)\n",
    "mf.log_param(key='train_split_size', value =0.9)\n",
    "mf.log_param(key='test_split_size', value =0.3)\n",
    "\n",
    "train_ds = Dataset.from_pandas(train_data)\n",
    "val_ds = Dataset.from_pandas(validation_data)\n",
    "test_ds = Dataset.from_pandas(test_data)\n",
    "\n",
    "train_ds_shuffled = train_ds.shuffle(seed=42)\n",
    "\n",
    "final_ds = dataset = DatasetDict({\n",
    "    'train': train_ds_shuffled,\n",
    "    'val': val_ds,\n",
    "    'test': test_ds\n",
    "})\n",
    "\n",
    "print(final_ds)\n",
    "\n",
    "tokenizer = AutoTokenizer.from_pretrained(model_name, add_prefix_space=True)\n",
    "tokenizer.pad_token_id = tokenizer.eos_token_id\n",
    "tokenizer.pad_token = tokenizer.eos_token\n",
    "\n",
    "def tokenize(examples):\n",
    "    return tokenizer(examples['text'], truncation=True, max_length=max_len)\n",
    "\n",
    "rm_cols = ['__index_level_0__', 'text']\n",
    "collator = DataCollatorWithPadding(tokenizer=tokenizer)\n",
    "\n",
    "\n",
    "tokenized_datasets = dataset.map(tokenize, batched=True, remove_columns=rm_cols)\n",
    "tokenized_datasets = tokenized_datasets.rename_column(\"target\", \"label\")\n",
    "tokenized_datasets.set_format(\"torch\")\n",
    "\n",
    "mf.end_run()"
   ]
  },
  {
   "cell_type": "code",
   "execution_count": 19,
   "metadata": {},
   "outputs": [],
   "source": [
    "output = {\n",
    "    'datasets':tokenized_datasets,\n",
    "    'tokenizer':tokenizer,\n",
    "    'collator':collator\n",
    "}"
   ]
  },
  {
   "cell_type": "code",
   "execution_count": 22,
   "metadata": {},
   "outputs": [
    {
     "data": {
      "text/plain": [
       "{'datasets': DatasetDict({\n",
       "     train: Dataset({\n",
       "         features: ['label', 'input_ids', 'attention_mask'],\n",
       "         num_rows: 1440000\n",
       "     })\n",
       "     val: Dataset({\n",
       "         features: ['label', 'input_ids', 'attention_mask'],\n",
       "         num_rows: 112000\n",
       "     })\n",
       "     test: Dataset({\n",
       "         features: ['label', 'input_ids', 'attention_mask'],\n",
       "         num_rows: 48000\n",
       "     })\n",
       " }),\n",
       " 'tokenizer': PreTrainedTokenizerFast(name_or_path='tiiuae/falcon-7b', vocab_size=65024, model_max_length=2048, is_fast=True, padding_side='right', truncation_side='right', special_tokens={'eos_token': '<|endoftext|>', 'pad_token': '<|endoftext|>', 'additional_special_tokens': ['>>TITLE<<', '>>ABSTRACT<<', '>>INTRODUCTION<<', '>>SUMMARY<<', '>>COMMENT<<', '>>ANSWER<<', '>>QUESTION<<', '>>DOMAIN<<', '>>PREFIX<<', '>>SUFFIX<<', '>>MIDDLE<<']}, clean_up_tokenization_spaces=True),  added_tokens_decoder={\n",
       " \t0: AddedToken(\">>TITLE<<\", rstrip=False, lstrip=False, single_word=False, normalized=False, special=True),\n",
       " \t1: AddedToken(\">>ABSTRACT<<\", rstrip=False, lstrip=False, single_word=False, normalized=False, special=True),\n",
       " \t2: AddedToken(\">>INTRODUCTION<<\", rstrip=False, lstrip=False, single_word=False, normalized=False, special=True),\n",
       " \t3: AddedToken(\">>SUMMARY<<\", rstrip=False, lstrip=False, single_word=False, normalized=False, special=True),\n",
       " \t4: AddedToken(\">>COMMENT<<\", rstrip=False, lstrip=False, single_word=False, normalized=False, special=True),\n",
       " \t5: AddedToken(\">>ANSWER<<\", rstrip=False, lstrip=False, single_word=False, normalized=False, special=True),\n",
       " \t6: AddedToken(\">>QUESTION<<\", rstrip=False, lstrip=False, single_word=False, normalized=False, special=True),\n",
       " \t7: AddedToken(\">>DOMAIN<<\", rstrip=False, lstrip=False, single_word=False, normalized=False, special=True),\n",
       " \t8: AddedToken(\">>PREFIX<<\", rstrip=False, lstrip=False, single_word=False, normalized=False, special=True),\n",
       " \t9: AddedToken(\">>SUFFIX<<\", rstrip=False, lstrip=False, single_word=False, normalized=False, special=True),\n",
       " \t10: AddedToken(\">>MIDDLE<<\", rstrip=False, lstrip=False, single_word=False, normalized=False, special=True),\n",
       " \t11: AddedToken(\"<|endoftext|>\", rstrip=False, lstrip=False, single_word=False, normalized=False, special=True),\n",
       " },\n",
       " 'collator': DataCollatorWithPadding(tokenizer=PreTrainedTokenizerFast(name_or_path='tiiuae/falcon-7b', vocab_size=65024, model_max_length=2048, is_fast=True, padding_side='right', truncation_side='right', special_tokens={'eos_token': '<|endoftext|>', 'pad_token': '<|endoftext|>', 'additional_special_tokens': ['>>TITLE<<', '>>ABSTRACT<<', '>>INTRODUCTION<<', '>>SUMMARY<<', '>>COMMENT<<', '>>ANSWER<<', '>>QUESTION<<', '>>DOMAIN<<', '>>PREFIX<<', '>>SUFFIX<<', '>>MIDDLE<<']}, clean_up_tokenization_spaces=True),  added_tokens_decoder={\n",
       " \t0: AddedToken(\">>TITLE<<\", rstrip=False, lstrip=False, single_word=False, normalized=False, special=True),\n",
       " \t1: AddedToken(\">>ABSTRACT<<\", rstrip=False, lstrip=False, single_word=False, normalized=False, special=True),\n",
       " \t2: AddedToken(\">>INTRODUCTION<<\", rstrip=False, lstrip=False, single_word=False, normalized=False, special=True),\n",
       " \t3: AddedToken(\">>SUMMARY<<\", rstrip=False, lstrip=False, single_word=False, normalized=False, special=True),\n",
       " \t4: AddedToken(\">>COMMENT<<\", rstrip=False, lstrip=False, single_word=False, normalized=False, special=True),\n",
       " \t5: AddedToken(\">>ANSWER<<\", rstrip=False, lstrip=False, single_word=False, normalized=False, special=True),\n",
       " \t6: AddedToken(\">>QUESTION<<\", rstrip=False, lstrip=False, single_word=False, normalized=False, special=True),\n",
       " \t7: AddedToken(\">>DOMAIN<<\", rstrip=False, lstrip=False, single_word=False, normalized=False, special=True),\n",
       " \t8: AddedToken(\">>PREFIX<<\", rstrip=False, lstrip=False, single_word=False, normalized=False, special=True),\n",
       " \t9: AddedToken(\">>SUFFIX<<\", rstrip=False, lstrip=False, single_word=False, normalized=False, special=True),\n",
       " \t10: AddedToken(\">>MIDDLE<<\", rstrip=False, lstrip=False, single_word=False, normalized=False, special=True),\n",
       " \t11: AddedToken(\"<|endoftext|>\", rstrip=False, lstrip=False, single_word=False, normalized=False, special=True),\n",
       " }, padding=True, max_length=None, pad_to_multiple_of=None, return_tensors='pt')}"
      ]
     },
     "execution_count": 22,
     "metadata": {},
     "output_type": "execute_result"
    }
   ],
   "source": [
    "dgm.yield_result(output, output_name='preprocessed_dataset_with_tokenizer')"
   ]
  }
 ],
 "metadata": {
  "kernelspec": {
   "display_name": "Python 3 (ipykernel)",
   "language": "python",
   "name": "python3"
  },
  "language_info": {
   "codemirror_mode": {
    "name": "ipython",
    "version": 3
   },
   "file_extension": ".py",
   "mimetype": "text/x-python",
   "name": "python",
   "nbconvert_exporter": "python",
   "pygments_lexer": "ipython3",
   "version": "3.11.9"
  }
 },
 "nbformat": 4,
 "nbformat_minor": 4
}
