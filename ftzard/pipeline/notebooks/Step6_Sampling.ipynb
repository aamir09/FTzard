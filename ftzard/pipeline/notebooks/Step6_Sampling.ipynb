{
 "cells": [
  {
   "cell_type": "code",
   "execution_count": 1,
   "id": "e58985eb-0de7-4131-b0b1-bf818eac896e",
   "metadata": {
    "editable": true,
    "slideshow": {
     "slide_type": ""
    },
    "tags": []
   },
   "outputs": [
    {
     "name": "stderr",
     "output_type": "stream",
     "text": [
      "/app/.pixi/envs/default/lib/python3.11/site-packages/tqdm/auto.py:21: TqdmWarning: IProgress not found. Please update jupyter and ipywidgets. See https://ipywidgets.readthedocs.io/en/stable/user_install.html\n",
      "  from .autonotebook import tqdm as notebook_tqdm\n"
     ]
    }
   ],
   "source": [
    "import os \n",
    "import mlflow as mf \n",
    "import joblib\n",
    "import torch\n",
    "import transformers\n",
    "import numpy as np\n",
    "from tqdm import tqdm\n",
    "\n",
    "import ftzard.utils.mlflow as mf_utils\n",
    "from ftzard.utils.dvc import get_current_date_time\n",
    "\n",
    "\n",
    "\n",
    "from hydra import initialize, compose\n",
    "from warnings import filterwarnings\n",
    "import matplotlib.pyplot as plt\n",
    "\n",
    "import dagstermill as dgm\n",
    "filterwarnings(\"ignore\")"
   ]
  },
  {
   "cell_type": "code",
   "execution_count": 2,
   "id": "dd5cf634-dd6e-4115-a1c9-02de1107a0a9",
   "metadata": {
    "editable": true,
    "slideshow": {
     "slide_type": ""
    },
    "tags": []
   },
   "outputs": [
    {
     "name": "stdout",
     "output_type": "stream",
     "text": [
      "Symlink already created...\n"
     ]
    }
   ],
   "source": [
    "base_path = '/app/ftzard'\n",
    "config_path = f'{base_path}/config/'\n",
    "try:\n",
    "    os.symlink(config_path, \"config_link\")\n",
    "except Exception as e:\n",
    "    print(\"Symlink already created...\")\n",
    "config_name = 'config'"
   ]
  },
  {
   "cell_type": "code",
   "execution_count": 3,
   "id": "6f679b0c-d97e-464f-a795-8641f1087e4d",
   "metadata": {
    "editable": true,
    "slideshow": {
     "slide_type": ""
    },
    "tags": []
   },
   "outputs": [],
   "source": [
    "with initialize(version_base=None, config_path=\"config_link\"):\n",
    "    cfg = compose(config_name=config_name)\n",
    "    tracking_uri, experiment_name = cfg.MLFLOW.TRACKING.URI, cfg.MLFLOW.EXPERIMENT.NAME\n",
    "    mlflow_model_name = cfg.MLFLOW.MODEL.NAME \n",
    "    "
   ]
  },
  {
   "cell_type": "code",
   "execution_count": 4,
   "id": "6641cd61-21f5-4436-99c9-4733ccfeb7ac",
   "metadata": {
    "editable": true,
    "slideshow": {
     "slide_type": ""
    },
    "tags": []
   },
   "outputs": [
    {
     "name": "stdout",
     "output_type": "stream",
     "text": [
      "Base Run Name:  DATA_SAMPLING\n",
      "Mlflow Experiment Name:  senetiment_analysis\n",
      "Mlflow Run Name:  2024-07-02_12:7\n",
      "Path to Data:  /app/ftzard/data/preidictions_logits.joblib\n"
     ]
    }
   ],
   "source": [
    "os.environ['MLFLOW_TRACKING_URI'] = tracking_uri\n",
    "base_run_name = 'DATA_SAMPLING'\n",
    "run_name = get_current_date_time()\n",
    "data_path = f\"{base_path}/data/preidictions_logits.joblib\"\n",
    "print(\"Base Run Name: \", base_run_name )\n",
    "print('Mlflow Experiment Name: ', experiment_name)\n",
    "print('Mlflow Run Name: ', run_name)\n",
    "print('Path to Data: ', data_path)"
   ]
  },
  {
   "cell_type": "code",
   "execution_count": 5,
   "id": "10fab0fd-13f0-4d8c-8954-82d254d150a4",
   "metadata": {
    "editable": true,
    "slideshow": {
     "slide_type": ""
    },
    "tags": [
     "parameters"
    ]
   },
   "outputs": [
    {
     "name": "stderr",
     "output_type": "stream",
     "text": [
      "INFO:datasets:PyTorch version 2.0.1 available.\n"
     ]
    }
   ],
   "source": [
    "predictions_data = joblib.load(data_path)"
   ]
  },
  {
   "cell_type": "code",
   "execution_count": 6,
   "id": "06e028e6-197d-4c24-8488-81931e81af4f",
   "metadata": {
    "editable": true,
    "slideshow": {
     "slide_type": ""
    },
    "tags": []
   },
   "outputs": [
    {
     "name": "stdout",
     "output_type": "stream",
     "text": [
      "dict_keys(['data', 'predicted_labels', 'logits'])\n"
     ]
    }
   ],
   "source": [
    "print(predictions_data.keys())"
   ]
  },
  {
   "cell_type": "code",
   "execution_count": 7,
   "id": "adc97503-00fd-44a0-a7a1-e245fc828a5a",
   "metadata": {
    "editable": true,
    "slideshow": {
     "slide_type": ""
    },
    "tags": []
   },
   "outputs": [
    {
     "name": "stdout",
     "output_type": "stream",
     "text": [
      "(480, 2) [-4.766 -9.06 ]\n"
     ]
    }
   ],
   "source": [
    "logits = predictions_data[\"logits\"]\n",
    "logits = np.array(logits)\n",
    "print(logits.shape, logits[0])"
   ]
  },
  {
   "cell_type": "code",
   "execution_count": 8,
   "id": "c2e1cf54-83f8-44de-8eba-55f940cb2b97",
   "metadata": {
    "editable": true,
    "slideshow": {
     "slide_type": ""
    },
    "tags": []
   },
   "outputs": [
    {
     "name": "stdout",
     "output_type": "stream",
     "text": [
      "Softmax Logits: \n",
      " [[0.98656703 0.01343297]\n",
      " [0.96789367 0.03210633]\n",
      " [0.4044814  0.5955186 ]]\n",
      "Uncertainity Scores: \n",
      " [0.00671648 0.01605316 0.2022407 ]\n"
     ]
    }
   ],
   "source": [
    "def softmax(array):\n",
    "    exponents, result  = np.zeros(array.shape), np.zeros(array.shape)\n",
    "    for index in range(len(array)):\n",
    "        exponents[index] = np.exp(array[index])\n",
    "    for index in range(len(array)):\n",
    "        result[index] = exponents[index]/np.sum(exponents)\n",
    "\n",
    "    return result\n",
    "\n",
    "def least_confidence_sampling(array):\n",
    "    return (1 - np.max(array))/(len(array)/(len(array)-1))\n",
    "    \n",
    "        \n",
    "\n",
    "softmax_logits = np.array([softmax(elem) for elem in logits])\n",
    "print('Softmax Logits: \\n', softmax_logits[:3])\n",
    "\n",
    "\n",
    "uncertainity_scores = np.array([least_confidence_sampling(item) for item in softmax_logits])\n",
    "print('Uncertainity Scores: \\n', uncertainity_scores[:3])"
   ]
  },
  {
   "cell_type": "code",
   "execution_count": 9,
   "id": "4ba880c0-f378-45d1-b419-5dc1454f2639",
   "metadata": {
    "editable": true,
    "slideshow": {
     "slide_type": ""
    },
    "tags": []
   },
   "outputs": [
    {
     "name": "stdout",
     "output_type": "stream",
     "text": [
      "Range of Uncertainity Scores:  [0.00027729646909163685, 0.249490538573508]\n",
      "Maximum Uncertainity Score 0.5\n"
     ]
    }
   ],
   "source": [
    "range_of_uncertainity = [np.min(uncertainity_scores), np.max(uncertainity_scores)]\n",
    "print('Range of Uncertainity Scores: ', range_of_uncertainity)\n",
    "print('Maximum Uncertainity Score', 0.5)"
   ]
  },
  {
   "cell_type": "code",
   "execution_count": 10,
   "id": "1f53528b-22a4-4638-a985-6ffee541c819",
   "metadata": {
    "editable": true,
    "slideshow": {
     "slide_type": ""
    },
    "tags": []
   },
   "outputs": [
    {
     "data": {
      "image/png": "[encoded data removed]",
      "text/plain": [
       "<Figure size 640x480 with 1 Axes>"
      ]
     },
     "metadata": {},
     "output_type": "display_data"
    }
   ],
   "source": [
    "plt.hist(uncertainity_scores, bins=20)\n",
    "plt.title(\"Freq Distributions: Uncertainity Scores\")\n",
    "plt.ylabel(\"Frequency\")\n",
    "plt.xlabel(\"Score\")\n",
    "plt.gca().spines[\"top\"].set_visible(0)\n",
    "plt.gca().spines[\"right\"].set_visible(0)\n",
    "plt.show()"
   ]
  },
  {
   "cell_type": "code",
   "execution_count": 11,
   "id": "e5311cd7-7eaf-44fc-ab0d-6b20495d7aca",
   "metadata": {
    "editable": true,
    "slideshow": {
     "slide_type": ""
    },
    "tags": []
   },
   "outputs": [
    {
     "name": "stdout",
     "output_type": "stream",
     "text": [
      "Sampling Threshold:  0.08102927950993387\n"
     ]
    }
   ],
   "source": [
    "threshold = np.quantile(uncertainity_scores, .75)\n",
    "print(\"Sampling Threshold: \", threshold)"
   ]
  },
  {
   "cell_type": "code",
   "execution_count": 12,
   "id": "52c62911-4d0d-4696-afff-d8aa2eeda4b7",
   "metadata": {
    "editable": true,
    "slideshow": {
     "slide_type": ""
    },
    "tags": []
   },
   "outputs": [],
   "source": [
    "top_uncertain_indices = np.where(uncertainity_scores>=threshold)"
   ]
  },
  {
   "cell_type": "code",
   "execution_count": 13,
   "id": "9d756ea9-b769-4078-a6a7-830645cbf118",
   "metadata": {
    "editable": true,
    "slideshow": {
     "slide_type": ""
    },
    "tags": []
   },
   "outputs": [
    {
     "data": {
      "text/plain": [
       "'senetiment_analysis'"
      ]
     },
     "execution_count": 13,
     "metadata": {},
     "output_type": "execute_result"
    }
   ],
   "source": [
    "experiment_name"
   ]
  },
  {
   "cell_type": "code",
   "execution_count": 15,
   "id": "d54cd90b-0127-45b2-952b-f1fc75efb93c",
   "metadata": {
    "editable": true,
    "slideshow": {
     "slide_type": ""
    },
    "tags": []
   },
   "outputs": [
    {
     "name": "stdout",
     "output_type": "stream",
     "text": [
      "The provided experiment name senetiment_analysis already exists, the run will be logged in this experiment.\n",
      "                                 \n"
     ]
    }
   ],
   "source": [
    "experiment_id = mf_utils.create_experiment(exp_name=experiment_name)\n",
    "\n",
    "base_run_id = mf_utils.get_run_id_by_name(run_name=base_run_name, \n",
    "                                             experiment_ids=[experiment_id])\n",
    "\n",
    "with mf.start_run(run_name=base_run_name, run_id = base_run_id, experiment_id=experiment_id):\n",
    "    run_id = mf_utils.get_run_id_by_name(run_name=run_name, \n",
    "                                    experiment_ids=[experiment_id], \n",
    "                                    nested=True)\n",
    "    with mf.start_run(run_name=run_name, run_id = run_id, experiment_id=experiment_id,\n",
    "                     nested=True):\n",
    "        try:\n",
    "            mf.log_param(\"min_uncert\", range_of_uncertainity[0])\n",
    "            mf.log_param(\"max_uncert\", range_of_uncertainity[0])\n",
    "            mf.log_param(\"threshold\", threshold)\n",
    "        except Exception as e:\n",
    "            print(e)"
   ]
  },
  {
   "cell_type": "code",
   "execution_count": 16,
   "id": "99be0e5b-5554-46f4-8842-efd0190fd854",
   "metadata": {
    "editable": true,
    "slideshow": {
     "slide_type": ""
    },
    "tags": []
   },
   "outputs": [
    {
     "name": "stdout",
     "output_type": "stream",
     "text": [
      "Dataset({\n",
      "    features: ['label', 'input_ids', 'attention_mask'],\n",
      "    num_rows: 120\n",
      "})\n"
     ]
    }
   ],
   "source": [
    "top_uncertain_data = predictions_data[\"data\"].select(top_uncertain_indices[0])\n",
    "print(top_uncertain_data)"
   ]
  },
  {
   "cell_type": "code",
   "execution_count": 17,
   "id": "363736e8-5c52-41c4-a569-85d12a6393d9",
   "metadata": {
    "editable": true,
    "slideshow": {
     "slide_type": ""
    },
    "tags": []
   },
   "outputs": [],
   "source": [
    "metadata = {\"run_name\": run_name,\n",
    "           \"run_id\":run_id,\n",
    "           \"base_run_id\": base_run_id,\n",
    "           \"base_run_name\": base_run_name}"
   ]
  },
  {
   "cell_type": "code",
   "execution_count": 18,
   "id": "33b497da-5aeb-4e54-8e75-8f9981ac115a",
   "metadata": {
    "editable": true,
    "slideshow": {
     "slide_type": ""
    },
    "tags": []
   },
   "outputs": [],
   "source": [
    "outputs = {\n",
    "    \"data\": top_uncertain_data\n",
    "}"
   ]
  },
  {
   "cell_type": "code",
   "execution_count": 19,
   "id": "b67a441c-e93e-4dae-8617-097cd609e6c9",
   "metadata": {
    "editable": true,
    "slideshow": {
     "slide_type": ""
    },
    "tags": []
   },
   "outputs": [
    {
     "data": {
      "text/plain": [
       "{'run_name': '2024-07-02_12:7',\n",
       " 'run_id': 'd128fa2f49714da18363f3511fbd8eb8',\n",
       " 'base_run_id': '7e293d885146454991da53fdd44793cf',\n",
       " 'base_run_name': 'DATA_SAMPLING'}"
      ]
     },
     "execution_count": 19,
     "metadata": {},
     "output_type": "execute_result"
    }
   ],
   "source": [
    "dgm.yield_result(outputs, output_name=\"retraining_data\")\n",
    "dgm.yield_result(metadata, output_name='step6_run_metadata')"
   ]
  }
 ],
 "metadata": {
  "kernelspec": {
   "display_name": "Python 3 (ipykernel)",
   "language": "python",
   "name": "python3"
  },
  "language_info": {
   "codemirror_mode": {
    "name": "ipython",
    "version": 3
   },
   "file_extension": ".py",
   "mimetype": "text/x-python",
   "name": "python",
   "nbconvert_exporter": "python",
   "pygments_lexer": "ipython3",
   "version": "3.11.9"
  }
 },
 "nbformat": 4,
 "nbformat_minor": 5
}
