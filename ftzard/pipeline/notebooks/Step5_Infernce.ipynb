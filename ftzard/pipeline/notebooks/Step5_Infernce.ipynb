{
 "cells": [
  {
   "cell_type": "code",
   "execution_count": 2,
   "id": "397a515f-c8d7-477f-8776-bfec3db6428f",
   "metadata": {},
   "outputs": [],
   "source": [
    "import os \n",
    "import mlflow as mf \n",
    "import torch\n",
    "import joblib\n",
    "import transformers\n",
    "import numpy as np\n",
    "from tqdm import tqdm\n",
    "\n",
    "from mlflow.models import infer_signature\n",
    "from torch.utils.data import DataLoader\n",
    "import ftzard.utils.mlflow as mf_utils\n",
    "from mlflow.models.signature import ModelSignature\n",
    "from mlflow.types.schema import Schema, TensorSpec\n",
    "from hydra import initialize, compose\n",
    "from warnings import filterwarnings\n",
    "\n",
    "from transformers import (AutoModelForSequenceClassification, \n",
    "                            AutoTokenizer, BitsAndBytesConfig,\n",
    "                            DataCollatorWithPadding)\n",
    "\n",
    "from sklearn.metrics import classification_report\n",
    "from peft import get_peft_model, PeftConfig, PeftModel\n",
    "\n",
    "filterwarnings(\"ignore\")"
   ]
  },
  {
   "cell_type": "code",
   "execution_count": null,
   "id": "ef3c9363-e24b-48ff-a9f8-f270226a2b1a",
   "metadata": {},
   "outputs": [],
   "source": []
  }
 ],
 "metadata": {
  "kernelspec": {
   "display_name": "Python 3 (ipykernel)",
   "language": "python",
   "name": "python3"
  },
  "language_info": {
   "codemirror_mode": {
    "name": "ipython",
    "version": 3
   },
   "file_extension": ".py",
   "mimetype": "text/x-python",
   "name": "python",
   "nbconvert_exporter": "python",
   "pygments_lexer": "ipython3",
   "version": "3.11.9"
  }
 },
 "nbformat": 4,
 "nbformat_minor": 5
}
