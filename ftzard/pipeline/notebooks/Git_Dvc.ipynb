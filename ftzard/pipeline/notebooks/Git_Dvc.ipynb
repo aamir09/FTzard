{
 "cells": [
  {
   "cell_type": "code",
   "execution_count": 1,
   "id": "3015c702-282b-4ca1-9775-b2780632ca7e",
   "metadata": {},
   "outputs": [],
   "source": [
    "import os\n",
    "import subprocess\n",
    "import mlflow\n",
    "import logging"
   ]
  },
  {
   "cell_type": "code",
   "execution_count": 3,
   "id": "4e5172e6-3d52-4536-94c5-4c299477b3fb",
   "metadata": {},
   "outputs": [],
   "source": [
    "# Set up logging\n",
    "logging.basicConfig(level=logging.INFO)\n",
    "logger = logging.getLogger(__name__)\n",
    "\n",
    "def run_command(command):\n",
    "    \"\"\"Run a shell command and return the output\"\"\"\n",
    "    result = subprocess.run(command, shell=True, check=True, text=True, capture_output=True)\n",
    "    return result.stdout.strip()\n",
    "\n",
    "def main():\n",
    "    try:\n",
    "        # 1. Add the DVC lock file\n",
    "        run_command(\"git add *.dvc.lock\")\n",
    "        \n",
    "        # 2. Commit the DVC lock file\n",
    "        commit_message = \"Update DVC lock file\"\n",
    "        run_command(f'git commit -m \"{commit_message}\"')\n",
    "        \n",
    "        # 3. Push changes to GitHub\n",
    "        run_command(\"git push origin main\")  # Adjust branch name if needed\n",
    "        \n",
    "        # 4. Get the commit ID\n",
    "        commit_id = run_command(\"git rev-parse HEAD\")\n",
    "        logger.info(f\"Commit ID: {commit_id}\")\n",
    "        \n",
    "        # 5. Perform DVC checkout\n",
    "        run_command(\"dvc checkout\")\n",
    "        \n",
    "        # 6. Log the commit ID to MLflow\n",
    "        mlflow.set_tracking_uri(\"http://localhost:5000\")  # Adjust as needed\n",
    "        mlflow.set_experiment(\"dvc_github_integration\")\n",
    "        \n",
    "        with mlflow.start_run():\n",
    "            mlflow.log_param(\"commit_id\", commit_id)\n",
    "            logger.info(\"Logged commit ID to MLflow\")\n",
    "        \n",
    "        logger.info(\"All operations completed successfully\")\n",
    "    \n",
    "    except subprocess.CalledProcessError as e:\n",
    "        logger.error(f\"Error executing command: {e.cmd}\")\n",
    "        logger.error(f\"Error output: {e.stderr}\")\n",
    "    except Exception as e:\n",
    "        logger.error(f\"An error occurred: {str(e)}\")"
   ]
  },
  {
   "cell_type": "code",
   "execution_count": 4,
   "id": "132c2158-26c4-4e75-8619-7194f6ce35ba",
   "metadata": {},
   "outputs": [
    {
     "name": "stderr",
     "output_type": "stream",
     "text": [
      "ERROR:__main__:Error executing command: git add *.dvc.lock\n",
      "ERROR:__main__:Error output: /bin/sh: git: command not found\n",
      "\n"
     ]
    }
   ],
   "source": [
    "if __name__ == \"__main__\":\n",
    "    main()"
   ]
  },
  {
   "cell_type": "code",
   "execution_count": null,
   "id": "3f517ccc-2941-4fc4-8c57-c161e73fe44a",
   "metadata": {},
   "outputs": [],
   "source": []
  }
 ],
 "metadata": {
  "kernelspec": {
   "display_name": "Python 3 (ipykernel)",
   "language": "python",
   "name": "python3"
  },
  "language_info": {
   "codemirror_mode": {
    "name": "ipython",
    "version": 3
   },
   "file_extension": ".py",
   "mimetype": "text/x-python",
   "name": "python",
   "nbconvert_exporter": "python",
   "pygments_lexer": "ipython3",
   "version": "3.11.9"
  }
 },
 "nbformat": 4,
 "nbformat_minor": 5
}
