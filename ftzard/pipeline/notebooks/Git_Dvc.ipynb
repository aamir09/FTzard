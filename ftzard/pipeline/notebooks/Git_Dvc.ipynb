{
 "cells": [
  {
   "cell_type": "code",
   "execution_count": 1,
   "id": "3015c702-282b-4ca1-9775-b2780632ca7e",
   "metadata": {
    "editable": true,
    "slideshow": {
     "slide_type": ""
    },
    "tags": []
   },
   "outputs": [],
   "source": [
    "import os\n",
    "import subprocess\n",
    "import mlflow\n",
    "import logging\n",
    "import datetime\n",
    "from hydra import initialize, compose\n",
    "import mlflow as mf \n",
    "import joblib\n",
    "import ftzard.utils.mlflow as mf_utils\n",
    "import json\n",
    "\n",
    "logging.basicConfig(level=logging.INFO)\n",
    "logger = logging.getLogger(__name__)"
   ]
  },
  {
   "cell_type": "code",
   "execution_count": 2,
   "id": "d7705ee6-f650-427a-a748-16a6c2978c5f",
   "metadata": {
    "editable": true,
    "slideshow": {
     "slide_type": ""
    },
    "tags": []
   },
   "outputs": [
    {
     "name": "stdout",
     "output_type": "stream",
     "text": [
      "Symlink already created...\n"
     ]
    }
   ],
   "source": [
    "base_path = '/app/ftzard'\n",
    "config_path = f'{base_path}/config/'\n",
    "try:\n",
    "    os.symlink(config_path, \"config_link\")\n",
    "except Exception as e:\n",
    "    print(\"Symlink already created...\")\n",
    "config_name = 'config'"
   ]
  },
  {
   "cell_type": "code",
   "execution_count": 3,
   "id": "778b20e2-6d7b-46c5-93fb-4177fb48bcf5",
   "metadata": {
    "editable": true,
    "slideshow": {
     "slide_type": ""
    },
    "tags": [
     "parameters"
    ]
   },
   "outputs": [],
   "source": [
    "metadata = joblib.load(f\"{base_path}/data/step1_run_metadata.joblib\")"
   ]
  },
  {
   "cell_type": "code",
   "execution_count": 4,
   "id": "a1753a4c-510e-4c4c-908c-3cf4795b9c05",
   "metadata": {
    "editable": true,
    "slideshow": {
     "slide_type": ""
    },
    "tags": []
   },
   "outputs": [],
   "source": [
    "with initialize(version_base=None, config_path=\"config_link\"):\n",
    "    cfg = compose(config_name=config_name)\n",
    "    tracking_uri, experiment_name = cfg.MLFLOW_TRACKING_URI, cfg.MLFLOW_EXPERIMENT_NAME\n",
    "    "
   ]
  },
  {
   "cell_type": "code",
   "execution_count": 5,
   "id": "bd593fc8-ebba-4c8d-bea9-0f9efbd0d253",
   "metadata": {
    "editable": true,
    "slideshow": {
     "slide_type": ""
    },
    "tags": []
   },
   "outputs": [
    {
     "name": "stderr",
     "output_type": "stream",
     "text": [
      "INFO:__main__:Mlflow Experiment Name: senetiment_analysis\n",
      "INFO:__main__:Mlflow Run Name: data_cleaning\n"
     ]
    }
   ],
   "source": [
    "os.environ['MLFLOW_TRACKING_URI'] = tracking_uri\n",
    "logger.info(f'Mlflow Experiment Name: {experiment_name}')\n",
    "logger.info(f'Mlflow Run Name: {metadata[\"run_name\"]}')"
   ]
  },
  {
   "cell_type": "code",
   "execution_count": 6,
   "id": "4e5172e6-3d52-4536-94c5-4c299477b3fb",
   "metadata": {
    "editable": true,
    "slideshow": {
     "slide_type": ""
    },
    "tags": []
   },
   "outputs": [],
   "source": [
    "# Set up logging\n",
    "def get_current_date_time():\n",
    "    now = datetime.datetime.now()\n",
    "    date = str(now.date())\n",
    "    hour = str(now.hour)\n",
    "    minute = str(now.minute)\n",
    "    return \"_\".join([date, hour, minute])\n",
    "    \n",
    "\n",
    "def run_command(command):\n",
    "    \"\"\"Run a shell command and return the output\"\"\"\n",
    "    result = subprocess.run(command, shell=True, check=True, text=True, capture_output=True)\n",
    "    return result.stdout.strip()\n",
    "\n",
    "def check_dvc_files(directory):\n",
    "    \"\"\"Check if DVC files exist in the given directory\"\"\"\n",
    "    dvc_files = [f for f in os.listdir(directory) if f.endswith('.dvc')]\n",
    "    \n",
    "    if not dvc_files:\n",
    "        logger.warning(f\"No .dvc files found in {directory}\")\n",
    "        return False\n",
    "    return True\n",
    "\n",
    "\n",
    "def main(run_name, date):\n",
    "    \n",
    "    try:\n",
    "        os.chdir('/app/ftzard/')\n",
    "        parent_dir = os.getcwd()\n",
    "        \n",
    "        logger.info(f\"Changed working directory to: {parent_dir}\")\n",
    "\n",
    "        # Check for DVC files in the parent directory\n",
    "        if not check_dvc_files(parent_dir):\n",
    "            raise FileNotFoundError(\"DVC files not found in the parent directory.\")\n",
    "\n",
    "        run_command(\"dvc add data\")\n",
    "\n",
    "        # 1. Add the DVC lock file\n",
    "        run_command(\"git add -f *.dvc\")\n",
    "        \n",
    "        # 2. Commit the DVC lock file\n",
    "        commit_message = f\"Update DVC lock file {run_name} {date}\"\n",
    "        run_command(f'git commit -m \"{commit_message}\"')\n",
    "        \n",
    "        # 3. Push changes to GitHub\n",
    "        run_command(\"git push -f origin main\")  # Adjust branch name if needed\n",
    "        \n",
    "        # 4. Get the commit ID\n",
    "        commit_id = run_command(\"git rev-parse HEAD\")\n",
    "        logger.info(f\"Commit ID: {commit_id}\")\n",
    "        \n",
    "        # 5. Perform DVC checkout\n",
    "        run_command(\"dvc checkout\")\n",
    "\n",
    "        return commit_id\n",
    "    \n",
    "    except subprocess.CalledProcessError as e:\n",
    "        logger.error(f\"Error executing command: {e.cmd}\")\n",
    "        logger.error(f\"Error output: {e.stderr}\")\n",
    "    except Exception as e:\n",
    "        logger.error(f\"An error occurred: {str(e)}\")\n",
    "\n",
    "def get_artifact(run_id:str, artifact_name:str):\n",
    "    try:\n",
    "        client = mf.MlflowClient()\n",
    "        artifact_path = client.download_artifacts(run_id, artifact_name)\n",
    "        with open(artifact_path, 'w') as f:\n",
    "            artifact = json.load(f)\n",
    "        return artifact\n",
    "    except Exception as e:\n",
    "        logger.info(e)\n"
   ]
  },
  {
   "cell_type": "code",
   "execution_count": 7,
   "id": "132c2158-26c4-4e75-8619-7194f6ce35ba",
   "metadata": {
    "editable": true,
    "slideshow": {
     "slide_type": ""
    },
    "tags": []
   },
   "outputs": [
    {
     "name": "stderr",
     "output_type": "stream",
     "text": [
      "INFO:alembic.runtime.migration:Context impl SQLiteImpl.\n",
      "INFO:alembic.runtime.migration:Will assume non-transactional DDL.\n",
      "INFO:__main__:No such file or directory: '/e:/FTzard/ftzard/pipeline/notebooks/mlruns/1/6f2f7a3538de462eb0137477aa1fcf7d/artifacts/commit_history.json'\n",
      "INFO:__main__:Changed working directory to: /app/ftzard\n"
     ]
    },
    {
     "name": "stdout",
     "output_type": "stream",
     "text": [
      "The provided experiment name senetiment_analysis already exists, the run will be logged in this experiment.\n",
      "                                 \n",
      "Experiment Id:  1\n",
      "Run Id:  6f2f7a3538de462eb0137477aa1fcf7d\n"
     ]
    },
    {
     "name": "stderr",
     "output_type": "stream",
     "text": [
      "INFO:__main__:Commit ID: 28460ad33c29e928d7b0a332bea21092dfa83be9\n"
     ]
    }
   ],
   "source": [
    "if __name__ == \"__main__\":\n",
    "    run_name = metadata[\"run_name\"]\n",
    "    experiment_id = mf_utils.create_experiment(exp_name=experiment_name)\n",
    "    print('Experiment Id: ', experiment_id)\n",
    "    run_id = mf_utils.get_run_id_by_name(run_name=run_name, experiment_ids=[experiment_id])\n",
    "    print('Run Id: ', run_id)\n",
    "    if run_id:\n",
    "        mf.start_run(run_id=run_id, run_name=run_name, experiment_id=experiment_id)\n",
    "    else:\n",
    "        mf.start_run(run_name=run_name, experiment_id=experiment_id)\n",
    "        \n",
    "    try:\n",
    "        artifact_name = \"commit_history.json\"\n",
    "        run_id = run_id if run_id else metadata[\"run_id\"]\n",
    "        artifact = get_artifact(run_id, artifact_name)\n",
    "        now = get_current_date_time()\n",
    "        commit_id = main(run_name, now)\n",
    "        commit_id = commit_id if commit_id else 'NA'\n",
    "        mf.set_tag(\"current_full_commit_id\", commit_id)\n",
    "        mf.log_metric(\"commit_id\", hash(commit_id))\n",
    "        if artifact:\n",
    "            artifact[now] = commit_id\n",
    "            mf.log_dict(artifact, \n",
    "                    artifact_name,\n",
    "                   metadata[\"run_id\"])\n",
    "    except Exception as e:\n",
    "        logger.info(e)\n",
    "            \n",
    "    mf.end_run()\n"
   ]
  }
 ],
 "metadata": {
  "kernelspec": {
   "display_name": "Python 3 (ipykernel)",
   "language": "python",
   "name": "python3"
  },
  "language_info": {
   "codemirror_mode": {
    "name": "ipython",
    "version": 3
   },
   "file_extension": ".py",
   "mimetype": "text/x-python",
   "name": "python",
   "nbconvert_exporter": "python",
   "pygments_lexer": "ipython3",
   "version": "3.11.9"
  }
 },
 "nbformat": 4,
 "nbformat_minor": 5
}
