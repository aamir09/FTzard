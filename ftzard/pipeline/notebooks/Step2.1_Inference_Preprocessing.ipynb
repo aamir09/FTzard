{
 "cells": [
  {
   "cell_type": "code",
   "execution_count": 23,
   "id": "f175ae8e-5074-4605-b199-c3a682b1f74d",
   "metadata": {},
   "outputs": [],
   "source": [
    "import os\n",
    "import torch\n",
    "from transformers import (\n",
    "    AutoTokenizer, DataCollatorWithPadding\n",
    ")\n",
    "import re\n",
    "import mlflow as mf\n",
    "import pandas as pd\n",
    "from hydra import initialize, compose\n",
    "import ftzard.utils.mlflow as mf_utils\n",
    "from sklearn.model_selection import train_test_split\n",
    "from datasets import load_dataset, Dataset, DatasetDict, concatenate_datasets\n",
    "from sklearn.model_selection import train_test_split\n",
    "from ftzard.utils.dvc import get_current_date_time\n",
    "import joblib\n",
    "import dagstermill as dgm\n"
   ]
  },
  {
   "cell_type": "code",
   "execution_count": 10,
   "id": "700c9efb-96c7-4f60-99cc-4ba12959bf4b",
   "metadata": {},
   "outputs": [
    {
     "name": "stdout",
     "output_type": "stream",
     "text": [
      "Symlink already created...\n"
     ]
    }
   ],
   "source": [
    "base_path = '/app/ftzard'\n",
    "config_path = f'{base_path}/config/'\n",
    "try:\n",
    "    os.symlink(config_path, \"config_link\")\n",
    "except Exception as e:\n",
    "    print(\"Symlink already created...\")\n",
    "data_path = f\"{base_path}/data/training.csv\"\n",
    "config_name = 'config'"
   ]
  },
  {
   "cell_type": "code",
   "execution_count": 3,
   "id": "d3cae854-c2cb-47e7-a96e-4870247db15b",
   "metadata": {},
   "outputs": [],
   "source": [
    "with initialize(version_base=None, config_path=\"config_link\"):\n",
    "    cfg = compose(config_name=config_name)\n",
    "    tracking_uri, experiment_name = cfg.MLFLOW.TRACKING.URI, cfg.MLFLOW.EXPERIMENT.NAME\n",
    "    "
   ]
  },
  {
   "cell_type": "code",
   "execution_count": 11,
   "id": "0a8a8205-f82c-4745-a682-303324f3e187",
   "metadata": {},
   "outputs": [
    {
     "name": "stdout",
     "output_type": "stream",
     "text": [
      "Base Run Name:  INFERNECE DATA PROCESSING\n",
      "Data Path:  /app/ftzard/data/training.csv\n",
      "Mlflow Experiment Name:  senetiment_analysis\n",
      "Mlflow Run Name:  2024-07-03_6:52\n",
      "Model Name:  tiiuae/falcon-7b\n"
     ]
    }
   ],
   "source": [
    "os.environ['MLFLOW_TRACKING_URI'] = tracking_uri\n",
    "base_run_name = \"INFERNECE DATA PROCESSING\"\n",
    "run_name = get_current_date_time()\n",
    "model_name = cfg.HUGGINGFACE.MODEL.NAME\n",
    "max_len = 1024\n",
    "print(\"Base Run Name: \", base_run_name)\n",
    "print('Data Path: ', data_path)\n",
    "print('Mlflow Experiment Name: ', experiment_name)\n",
    "print('Mlflow Run Name: ', run_name)\n",
    "print('Model Name: ', model_name)"
   ]
  },
  {
   "cell_type": "code",
   "execution_count": 17,
   "id": "a5dd8e98-60cc-4b61-bf29-5e8ff2b7a677",
   "metadata": {
    "editable": true,
    "slideshow": {
     "slide_type": ""
    },
    "tags": [
     "parameters"
    ]
   },
   "outputs": [],
   "source": [
    "data = pd.read_csv(data_path, encoding='latin-1')"
   ]
  },
  {
   "cell_type": "code",
   "execution_count": 18,
   "id": "ab9a6009-493d-42b7-9982-0cc388914994",
   "metadata": {},
   "outputs": [
    {
     "data": {
      "text/html": [
       "<div>\n",
       "<style scoped>\n",
       "    .dataframe tbody tr th:only-of-type {\n",
       "        vertical-align: middle;\n",
       "    }\n",
       "\n",
       "    .dataframe tbody tr th {\n",
       "        vertical-align: top;\n",
       "    }\n",
       "\n",
       "    .dataframe thead th {\n",
       "        text-align: right;\n",
       "    }\n",
       "</style>\n",
       "<table border=\"1\" class=\"dataframe\">\n",
       "  <thead>\n",
       "    <tr style=\"text-align: right;\">\n",
       "      <th></th>\n",
       "      <th>Unnamed: 0</th>\n",
       "      <th>target</th>\n",
       "      <th>id</th>\n",
       "      <th>date</th>\n",
       "      <th>no_query</th>\n",
       "      <th>user</th>\n",
       "      <th>text</th>\n",
       "    </tr>\n",
       "  </thead>\n",
       "  <tbody>\n",
       "    <tr>\n",
       "      <th>0</th>\n",
       "      <td>0</td>\n",
       "      <td>0</td>\n",
       "      <td>1467810369</td>\n",
       "      <td>Mon Apr 06 22:19:45 PDT 2009</td>\n",
       "      <td>NO_QUERY</td>\n",
       "      <td>_TheSpecialOne_</td>\n",
       "      <td>@switchfoot http://twitpic.com/2y1zl - Awww, t...</td>\n",
       "    </tr>\n",
       "    <tr>\n",
       "      <th>1</th>\n",
       "      <td>1</td>\n",
       "      <td>0</td>\n",
       "      <td>1467810672</td>\n",
       "      <td>Mon Apr 06 22:19:49 PDT 2009</td>\n",
       "      <td>NO_QUERY</td>\n",
       "      <td>scotthamilton</td>\n",
       "      <td>is upset that he can't update his Facebook by ...</td>\n",
       "    </tr>\n",
       "    <tr>\n",
       "      <th>2</th>\n",
       "      <td>2</td>\n",
       "      <td>0</td>\n",
       "      <td>1467810917</td>\n",
       "      <td>Mon Apr 06 22:19:53 PDT 2009</td>\n",
       "      <td>NO_QUERY</td>\n",
       "      <td>mattycus</td>\n",
       "      <td>@Kenichan I dived many times for the ball. Man...</td>\n",
       "    </tr>\n",
       "    <tr>\n",
       "      <th>3</th>\n",
       "      <td>3</td>\n",
       "      <td>0</td>\n",
       "      <td>1467811184</td>\n",
       "      <td>Mon Apr 06 22:19:57 PDT 2009</td>\n",
       "      <td>NO_QUERY</td>\n",
       "      <td>ElleCTF</td>\n",
       "      <td>my whole body feels itchy and like its on fire</td>\n",
       "    </tr>\n",
       "    <tr>\n",
       "      <th>4</th>\n",
       "      <td>4</td>\n",
       "      <td>0</td>\n",
       "      <td>1467811193</td>\n",
       "      <td>Mon Apr 06 22:19:57 PDT 2009</td>\n",
       "      <td>NO_QUERY</td>\n",
       "      <td>Karoli</td>\n",
       "      <td>@nationwideclass no, it's not behaving at all....</td>\n",
       "    </tr>\n",
       "  </tbody>\n",
       "</table>\n",
       "</div>"
      ],
      "text/plain": [
       "   Unnamed: 0  target          id                          date  no_query  \\\n",
       "0           0       0  1467810369  Mon Apr 06 22:19:45 PDT 2009  NO_QUERY   \n",
       "1           1       0  1467810672  Mon Apr 06 22:19:49 PDT 2009  NO_QUERY   \n",
       "2           2       0  1467810917  Mon Apr 06 22:19:53 PDT 2009  NO_QUERY   \n",
       "3           3       0  1467811184  Mon Apr 06 22:19:57 PDT 2009  NO_QUERY   \n",
       "4           4       0  1467811193  Mon Apr 06 22:19:57 PDT 2009  NO_QUERY   \n",
       "\n",
       "              user                                               text  \n",
       "0  _TheSpecialOne_  @switchfoot http://twitpic.com/2y1zl - Awww, t...  \n",
       "1    scotthamilton  is upset that he can't update his Facebook by ...  \n",
       "2         mattycus  @Kenichan I dived many times for the ball. Man...  \n",
       "3          ElleCTF    my whole body feels itchy and like its on fire   \n",
       "4           Karoli  @nationwideclass no, it's not behaving at all....  "
      ]
     },
     "execution_count": 18,
     "metadata": {},
     "output_type": "execute_result"
    }
   ],
   "source": [
    "data.head()"
   ]
  },
  {
   "cell_type": "code",
   "execution_count": 19,
   "id": "22df8795-3768-4b38-ac73-c13399b53b79",
   "metadata": {},
   "outputs": [
    {
     "name": "stdout",
     "output_type": "stream",
     "text": [
      "<class 'pandas.core.frame.DataFrame'>\n",
      "RangeIndex: 1600000 entries, 0 to 1599999\n",
      "Data columns (total 1 columns):\n",
      " #   Column  Non-Null Count    Dtype \n",
      "---  ------  --------------    ----- \n",
      " 0   text    1600000 non-null  object\n",
      "dtypes: object(1)\n",
      "memory usage: 12.2+ MB\n"
     ]
    }
   ],
   "source": [
    "data = data[[\"text\"]]\n",
    "data.info()"
   ]
  },
  {
   "cell_type": "code",
   "execution_count": 20,
   "id": "73e13b47-6f66-44f5-b1c9-85c6646e1e45",
   "metadata": {},
   "outputs": [],
   "source": [
    "data['text'] = data['text'].astype('str')"
   ]
  },
  {
   "cell_type": "code",
   "execution_count": 21,
   "id": "0e03dd47-4287-4562-8c46-f6bcc522194b",
   "metadata": {},
   "outputs": [],
   "source": [
    "def remove_at_the_rate(string):\n",
    "    pattern = re.compile(r'@\\w+')\n",
    "    matches = re.findall(pattern, string)\n",
    "    if matches:\n",
    "        for match in matches:\n",
    "            string = string.replace(match, f'user {match.split(\"@\")[-1]}')\n",
    "    return string\n",
    "\n",
    "def remove_special_characters(string):\n",
    "    pattern = re.compile(pattern = r'[^a-zA-Z0-9. ]')\n",
    "    string = re.sub(pattern, '', string)\n",
    "    return string\n",
    "\n",
    "\n",
    "def helper(string):\n",
    "    return remove_special_characters(remove_at_the_rate(string))"
   ]
  },
  {
   "cell_type": "code",
   "execution_count": 25,
   "id": "feeea4c0-8e4a-41ee-b491-a68b53fc4a4b",
   "metadata": {},
   "outputs": [
    {
     "name": "stdout",
     "output_type": "stream",
     "text": [
      "The provided experiment name senetiment_analysis already exists, the run will be logged in this experiment.\n",
      "                                 \n",
      "Experiment Id:  1\n",
      "Run Id:  9149b374d0f74b1497c0ae8141aa5ab6\n",
      "user switchfoot httptwitpic.com2y1zl  Awww thats a bummer.  You shoulda got David Carr of Third Day to do it. D\n"
     ]
    }
   ],
   "source": [
    "for i in range(2):\n",
    "    mf.end_run()\n",
    "experiment_id = mf_utils.create_experiment(exp_name=experiment_name)\n",
    "print('Experiment Id: ', experiment_id)\n",
    "base_run_id = mf_utils.get_run_id_by_name(run_name=base_run_name, experiment_ids=[experiment_id])\n",
    "\n",
    "with mf.start_run(run_name=base_run_name, experiment_id=experiment_id, run_id=base_run_id):\n",
    "    run_id = mf_utils.get_run_id_by_name(run_name=run_name, experiment_ids=[experiment_id], nested=True)\n",
    "    print('Run Id: ', run_id)\n",
    "    if run_id:\n",
    "        mf.start_run(run_id=run_id, run_name=run_name, experiment_id=experiment_id, nested=True)\n",
    "    else:\n",
    "        mf.start_run(run_name=run_name, experiment_id=experiment_id, nested=True)\n",
    "        \n",
    "    text = data['text'].apply(lambda x: helper(x))\n",
    "    print(text[0])\n",
    "    data['text'] = text\n",
    "    \n",
    "    mf.end_run()"
   ]
  },
  {
   "cell_type": "code",
   "execution_count": 29,
   "id": "2137d291-086b-42f1-a2c9-f0e67bd862cb",
   "metadata": {},
   "outputs": [
    {
     "name": "stdout",
     "output_type": "stream",
     "text": [
      "Run Id:  9149b374d0f74b1497c0ae8141aa5ab6\n"
     ]
    },
    {
     "name": "stderr",
     "output_type": "stream",
     "text": [
      "Map: 100%|████████████████████████████████████████████| 1600000/1600000 [00:40<00:00, 39131.93 examples/s]\n"
     ]
    }
   ],
   "source": [
    "for i in range(2):\n",
    "    mf.end_run()\n",
    "with mf.start_run(run_id=base_run_id, run_name=base_run_name, experiment_id=experiment_id):\n",
    "    run_id = mf_utils.get_run_id_by_name(run_name=run_name, experiment_ids=[experiment_id], nested=True)\n",
    "    print('Run Id: ', run_id)\n",
    "    if run_id:\n",
    "        mf.start_run(run_id=run_id, run_name=run_name, experiment_id=experiment_id, nested=True)\n",
    "    else:\n",
    "        mf.start_run(run_name=run_name, experiment_id=experiment_id, nested=True)\n",
    "    mf.log_param(key='max_sequence_length', value=max_len)\n",
    "    mf.log_param(key='random seed', value=42)\n",
    "    ds =  Dataset.from_pandas(data)\n",
    "\n",
    "    tokenizer = AutoTokenizer.from_pretrained(model_name, add_prefix_space=True)\n",
    "    tokenizer.pad_token_id = tokenizer.eos_token_id\n",
    "    tokenizer.pad_token = tokenizer.eos_token\n",
    "    \n",
    "    def tokenize(examples):\n",
    "        return tokenizer(examples['text'], truncation=True, max_length=max_len)\n",
    "    \n",
    "    rm_cols = ['text']\n",
    "    collator = DataCollatorWithPadding(tokenizer=tokenizer)\n",
    "\n",
    "    tokenized_datasets = ds.map(tokenize, batched=True, remove_columns=rm_cols)\n",
    "    # tokenized_datasets = tokenized_datasets.rename_column(\"label\")\n",
    "    tokenized_datasets.set_format(\"torch\")\n",
    "\n",
    "    \n",
    "        "
   ]
  },
  {
   "cell_type": "code",
   "execution_count": 30,
   "id": "07726d91-34fb-48bb-9cd2-b25bb5d0d120",
   "metadata": {},
   "outputs": [
    {
     "name": "stdout",
     "output_type": "stream",
     "text": [
      "Dataset({\n",
      "    features: ['input_ids', 'attention_mask'],\n",
      "    num_rows: 1600000\n",
      "})\n"
     ]
    }
   ],
   "source": [
    "print(tokenized_datasets)"
   ]
  },
  {
   "cell_type": "code",
   "execution_count": 31,
   "id": "926ce5f7-a33b-4177-b828-0330369e944c",
   "metadata": {},
   "outputs": [],
   "source": [
    "output = {\n",
    "    'datasets':{\n",
    "        \"test\": tokenized_datasets,\n",
    "    }\n",
    "}"
   ]
  },
  {
   "cell_type": "code",
   "execution_count": 32,
   "id": "d135cd06-68d2-4de0-b654-593e3261e987",
   "metadata": {},
   "outputs": [],
   "source": [
    "metadata = {\"run_name\": run_name,\n",
    "           \"run_id\":run_id if run_id else mf_utils.get_run_id_by_name(run_name=run_name, experiment_ids=[experiment_id]),\n",
    "           \"base_run_id\": base_run_id,\n",
    "            \"base_run_name\": base_run_name\n",
    "           }"
   ]
  },
  {
   "cell_type": "code",
   "execution_count": 33,
   "id": "8f40d266-b0d3-42bd-a3d4-434dc840f828",
   "metadata": {},
   "outputs": [
    {
     "data": {
      "text/plain": [
       "{'run_name': '2024-07-03_6:52',\n",
       " 'run_id': '9149b374d0f74b1497c0ae8141aa5ab6',\n",
       " 'base_run_id': 'ed170880e9c14795bb3f0018be900f60',\n",
       " 'base_run_name': 'INFERNECE DATA PROCESSING'}"
      ]
     },
     "execution_count": 33,
     "metadata": {},
     "output_type": "execute_result"
    }
   ],
   "source": [
    "dgm.yield_result(output, output_name='tokenized_dataset')\n",
    "dgm.yield_result(metadata, output_name='step2_1_run_metadata')"
   ]
  }
 ],
 "metadata": {
  "kernelspec": {
   "display_name": "Python 3 (ipykernel)",
   "language": "python",
   "name": "python3"
  },
  "language_info": {
   "codemirror_mode": {
    "name": "ipython",
    "version": 3
   },
   "file_extension": ".py",
   "mimetype": "text/x-python",
   "name": "python",
   "nbconvert_exporter": "python",
   "pygments_lexer": "ipython3",
   "version": "3.11.9"
  }
 },
 "nbformat": 4,
 "nbformat_minor": 5
}
